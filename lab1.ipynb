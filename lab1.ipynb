{
 "cells": [
  {
   "attachments": {},
   "cell_type": "markdown",
   "metadata": {},
   "source": [
    "# Lab1 : Markdown Syntaxes\n",
    "\n",
    "# First Heading\n",
    "## Second Heading\n",
    "### Third Heading\n",
    "#### Fourth Heading\n",
    "##### Fifth Heading\n",
    "###### Sixth Heading\n",
    "\n",
    "**bold**\n",
    "__Italic__\n",
    "\n",
    "This is <sub>subscript</sub> text\n",
    "\n",
    "[Click Me](http://www.google.com)\n",
    "\n",
    "![Its flask image](./flask.png)"
   ]
  },
  {
   "cell_type": "markdown",
   "metadata": {},
   "source": []
  },
  {
   "cell_type": "markdown",
   "metadata": {},
   "source": []
  }
 ],
 "metadata": {
  "language_info": {
   "name": "python"
  },
  "orig_nbformat": 4
 },
 "nbformat": 4,
 "nbformat_minor": 2
}
